{
  "nbformat": 4,
  "nbformat_minor": 0,
  "metadata": {
    "colab": {
      "provenance": [],
      "authorship_tag": "ABX9TyPGVbiX9xf7crPbXXuysj9U",
      "include_colab_link": true
    },
    "kernelspec": {
      "name": "python3",
      "display_name": "Python 3"
    },
    "language_info": {
      "name": "python"
    }
  },
  "cells": [
    {
      "cell_type": "markdown",
      "metadata": {
        "id": "view-in-github",
        "colab_type": "text"
      },
      "source": [
        "<a href=\"https://colab.research.google.com/github/Aravind2244/AIML-B38/blob/main/AIML_W1P1.ipynb\" target=\"_parent\"><img src=\"https://colab.research.google.com/assets/colab-badge.svg\" alt=\"Open In Colab\"/></a>"
      ]
    },
    {
      "cell_type": "markdown",
      "source": [
        "**PART-1**\n",
        "\n",
        "---\n",
        "\n",
        "\n",
        "\n"
      ],
      "metadata": {
        "id": "qYGGiQ7UFElq"
      }
    },
    {
      "cell_type": "code",
      "source": [
        "import numpy as np\n",
        "lst1=[1,2,3]\n",
        "array1 = np.array(lst1)\n",
        "print(\"list = \", lst1)\n",
        "print(\"array = \", array1)\n",
        "type(lst1)\n",
        "type(array1)"
      ],
      "metadata": {
        "colab": {
          "base_uri": "https://localhost:8080/"
        },
        "id": "gfc6nlKA8zno",
        "outputId": "05581ab5-2900-456b-e31c-85da0f37e628"
      },
      "execution_count": null,
      "outputs": [
        {
          "output_type": "stream",
          "name": "stdout",
          "text": [
            "list =  [1, 2, 3]\n",
            "array =  [1 2 3]\n"
          ]
        },
        {
          "output_type": "execute_result",
          "data": {
            "text/plain": [
              "numpy.ndarray"
            ]
          },
          "metadata": {},
          "execution_count": 2
        }
      ]
    },
    {
      "cell_type": "code",
      "source": [
        "print(\"type of list1:\",type(lst1))\n",
        "print(\"type of array1:\",type(array1))"
      ],
      "metadata": {
        "colab": {
          "base_uri": "https://localhost:8080/"
        },
        "id": "FIVsgeYg_cUu",
        "outputId": "d57aa882-50b2-4f67-ca3b-dd61693466ed"
      },
      "execution_count": null,
      "outputs": [
        {
          "output_type": "stream",
          "name": "stdout",
          "text": [
            "type of list1: <class 'list'>\n",
            "type of array1: <class 'numpy.ndarray'>\n"
          ]
        }
      ]
    },
    {
      "cell_type": "code",
      "source": [
        "import numpy as np\n",
        "array1=np.array([10,20,30])\n",
        "array2=np.array([2,2,2])\n",
        "\n",
        "print(\"array2 multiplied by array1: \", array1*array2)\n",
        "print(\"array2 divided by array1: \", array2/array1)\n",
        "print(\"array2 raised to the power of array1: \",array2**array1)"
      ],
      "metadata": {
        "colab": {
          "base_uri": "https://localhost:8080/"
        },
        "id": "DQY-2gRcAnq0",
        "outputId": "ae9380f0-fd8e-473f-f24c-1cadd1fdb0fe"
      },
      "execution_count": null,
      "outputs": [
        {
          "output_type": "stream",
          "name": "stdout",
          "text": [
            "array2 multiplied by array1:  [20 40 60]\n",
            "array2 divided by array1:  [0.2        0.1        0.06666667]\n",
            "array2 raised to the power of array1:  [      1024    1048576 1073741824]\n",
            "Adding two numpy arrays {array1} and {array2} together:  [12 22 32]\n"
          ]
        }
      ]
    },
    {
      "cell_type": "code",
      "source": [
        "import numpy as np\n",
        "array1=np.array([10,20,30])\n",
        "array2=np.array([2,2,2])\n",
        "print(\"Adding two numpy arrays {array1} and {array2} together: \",array1+array2)"
      ],
      "metadata": {
        "colab": {
          "base_uri": "https://localhost:8080/"
        },
        "id": "f5-B8EINEkix",
        "outputId": "68078617-6f43-4886-a43a-bb31b4b6002c"
      },
      "execution_count": null,
      "outputs": [
        {
          "output_type": "stream",
          "name": "stdout",
          "text": [
            "Adding two numpy arrays {array1} and {array2} together:  [12 22 32]\n"
          ]
        }
      ]
    },
    {
      "cell_type": "code",
      "source": [
        "import numpy as np\n",
        "array1=np.array([10,20,30])\n",
        "#sine function\n",
        "print(\"Sine: \",np.sin(array1))\n",
        "#logarithm\n",
        "print(\"Natural Logarithms=: \",np.log(array1))\n",
        "print(\"Base-10 logarithm: \",np.log10(array1))\n",
        "print(\"Base-2 logarithm: \",np.log2(array1))\n",
        "#Exponential\n",
        "print(\"Exponential: \",np.exp(array1))"
      ],
      "metadata": {
        "colab": {
          "base_uri": "https://localhost:8080/"
        },
        "id": "HY0E04_gByFu",
        "outputId": "a90a39b1-7781-4f16-a9e0-4859f1d2dc5e"
      },
      "execution_count": null,
      "outputs": [
        {
          "output_type": "stream",
          "name": "stdout",
          "text": [
            "Sine:  [-0.54402111  0.91294525 -0.98803162]\n",
            "Natural Logarithms=:  [2.30258509 2.99573227 3.40119738]\n",
            "Base-10 logarithm:  [1.         1.30103    1.47712125]\n",
            "Base-2 logarithm:  [3.32192809 4.32192809 4.9068906 ]\n",
            "Exponential:  [2.20264658e+04 4.85165195e+08 1.06864746e+13]\n"
          ]
        }
      ]
    }
  ]
}
